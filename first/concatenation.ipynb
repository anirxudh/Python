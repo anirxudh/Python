{
  "nbformat": 4,
  "nbformat_minor": 0,
  "metadata": {
    "colab": {
      "provenance": [],
      "authorship_tag": "ABX9TyOyML+9r3nauC95wICdN1rR",
      "include_colab_link": true
    },
    "kernelspec": {
      "name": "python3",
      "display_name": "Python 3"
    },
    "language_info": {
      "name": "python"
    }
  },
  "cells": [
    {
      "cell_type": "markdown",
      "metadata": {
        "id": "view-in-github",
        "colab_type": "text"
      },
      "source": [
        "<a href=\"https://colab.research.google.com/github/anirxudh/Python/blob/main/first/concatenation.ipynb\" target=\"_parent\"><img src=\"https://colab.research.google.com/assets/colab-badge.svg\" alt=\"Open In Colab\"/></a>"
      ]
    },
    {
      "cell_type": "code",
      "execution_count": 4,
      "metadata": {
        "colab": {
          "base_uri": "https://localhost:8080/"
        },
        "id": "arBytqhWs1L4",
        "outputId": "0c590e8c-ae5c-4401-f490-9e959b902897"
      },
      "outputs": [
        {
          "output_type": "stream",
          "name": "stdout",
          "text": [
            "enter ahello\n",
            "enter bwolrd\n",
            "sum is hellowolrd\n"
          ]
        }
      ],
      "source": [
        "a=input(\"enter a\")\n",
        "b=input(\"enter b\")\n",
        "c=a+b\n",
        "print(\"sum is\",c)"
      ]
    }
  ]
}